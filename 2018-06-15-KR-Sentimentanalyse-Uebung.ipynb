{
 "cells": [
  {
   "cell_type": "markdown",
   "metadata": {},
   "source": [
    "# Übung zur Sentimentanalyse - Analyse von Twitter Daten\n",
    "\n",
    "## Aufgabe 1: Theorie\n",
    "\n",
    "### 1.1: Wozu dient das Package TextBlob von Python und wie wird es angewendet?\n",
    " <!--- Da du angefangen hattest die Nummerierung der Aufgaben mit einem : (z.B. 1.2:)zu versehen, dann aber damit aufgehört hattest, habe ich dies für dich vollendet.  ---> "
   ]
  },
  {
   "cell_type": "markdown",
   "metadata": {},
   "source": []
  },
  {
   "cell_type": "markdown",
   "metadata": {},
   "source": [
    "### 1.2: Wie muss der Text vorbereitet werden, um den TextBlob Classifier anwenden  zu können?"
   ]
  },
  {
   "cell_type": "markdown",
   "metadata": {},
   "source": []
  },
  {
   "cell_type": "markdown",
   "metadata": {},
   "source": [
    "## Aufgabe 2: Übung Twitter-Data-Mining\n",
    "### In dieser Übung sollen alle Tweets mit dem Tag \"dataScience\" gesammelt werden.\n",
    "Für die folgende Übung wird zunächst ein API Key von Twitter benötigt.\n",
    "Diesen bekommt man unter [apps.twitter.com](https://apps.twitter.com/)"
   ]
  },
  {
   "cell_type": "markdown",
   "metadata": {},
   "source": [
    "### 2.1: Die Zugangsdaten sollen in einem Python Modul *credentials.py* abgespeichert werden:\n",
    "<!--- Vielleicht noch angeben, wo genau diese credentials.py liegen soll. ---> \n",
    "Dieses könnte folgendermaßen aussehen.\n",
    "```python\n",
    "# Consume:\n",
    "CONSUMER_KEY    = ''\n",
    "CONSUMER_SECRET = ''\n",
    "\n",
    "# Access:\n",
    "ACCESS_TOKEN  = ''\n",
    "ACCESS_SECRET = ''\n",
    "```"
   ]
  },
  {
   "cell_type": "markdown",
   "metadata": {},
   "source": [
    "### 2.2: Anschließend benötigen wir Imports für die folgenden Packages:\n",
    "* tweepy\n",
    "* pandas\n",
    "* numpy\n",
    "* credentials\n",
    "* TextBlob\n",
    "* re\n",
    "\n",
    "Für die Visualisierung benötigen wir zusätzlich\n",
    "* Ipython.display\n",
    "* matplotlib\n",
    "* seaborn"
   ]
  },
  {
   "cell_type": "code",
   "execution_count": 77,
   "metadata": {},
   "outputs": [],
   "source": []
  },
  {
   "cell_type": "markdown",
   "metadata": {},
   "source": [
    "### 2.3: Nun wollen wir das API Setup und die Authentication mit Hilfe unseres API Keys aufsetzen:\n",
    "Hier sollen nun mit Hilfe des credentials Modules die Authemtication und somit de API Verbindung hergestellt werden.<br>\n",
    "Hilfe beim Setup bietet unter anderem dieses [Tutorial](https://www.sitepoint.com/how-to-create-a-twitter-app-and-api-interface-via-python/)"
   ]
  },
  {
   "cell_type": "markdown",
   "metadata": {},
   "source": [
    "### 2.4: Als nächstes wollen wir ein Objekt erstellen über welches wir Twitter-Abfragen tätigen können:\n",
    "Die Methode um nach einfachen Tags zu suchen lautet: \n",
    "``` python\n",
    "search(q= \"SearchTag\")\n",
    "```\n",
    "Anschließend sollen die gesammelten Tweets ausgegeben werden."
   ]
  },
  {
   "cell_type": "code",
   "execution_count": null,
   "metadata": {},
   "outputs": [],
   "source": []
  },
  {
   "cell_type": "markdown",
   "metadata": {},
   "source": [
    "### 2.5: Um die Tweets analysieren zu können, müssen diese in einen DataFrame gespeichert werden:"
   ]
  },
  {
   "cell_type": "code",
   "execution_count": null,
   "metadata": {
    "scrolled": true
   },
   "outputs": [],
   "source": []
  },
  {
   "cell_type": "markdown",
   "metadata": {},
   "source": [
    "### 2.6: Um zu sehen wie ein abgespeicherter Tweet aufgebaut ist, lassen wir uns folgende Attribute des 1. Tweets ausgeben:\n",
    "* id\n",
    "* created_at\n",
    "* source\n",
    "* favorite_count\n",
    "* retweet_count\n",
    "* geo\n",
    "* coordinates\n",
    "* entities"
   ]
  },
  {
   "cell_type": "code",
   "execution_count": null,
   "metadata": {},
   "outputs": [],
   "source": []
  },
  {
   "cell_type": "markdown",
   "metadata": {},
   "source": [
    "### 2.7: Nun wollen wir unserem Dataframe folgende Attribute Hinzufügen:\n",
    "* Länge des Textes (len)\n",
    "* ID\n",
    "* Date\n",
    "* Source\n",
    "* Likes\n",
    "* Retweets \n"
   ]
  },
  {
   "cell_type": "code",
   "execution_count": null,
   "metadata": {},
   "outputs": [],
   "source": []
  },
  {
   "cell_type": "markdown",
   "metadata": {},
   "source": [
    "### 2.8: Wie lang sind die von uns gesammelten Durchchnittstweets? \n",
    " <!---Gibt es Durchschnittstweets? Meintest du vielleicht : Wie lang sind die von uns gesammelten Tweets im Durchschnitt? ---> "
   ]
  },
  {
   "cell_type": "code",
   "execution_count": null,
   "metadata": {},
   "outputs": [],
   "source": []
  },
  {
   "cell_type": "markdown",
   "metadata": {},
   "source": [
    "### 2.9: Welcher Tweet hat die meisten Likes bekommen? Welcher Tweet wurde am häufigsten retweetet?"
   ]
  },
  {
   "cell_type": "code",
   "execution_count": null,
   "metadata": {},
   "outputs": [],
   "source": []
  },
  {
   "cell_type": "markdown",
   "metadata": {},
   "source": [
    "### 2.10: Um die Daten über Zeit zu analysieren, erstellen wir nun eine Serie für die Attribute *len*, *Likes* und *Retweets* mit dem Attribut *Date* als Index:\n",
    " <!--- Was genau ist eine Serie? Vielleicht könntest du das im Theorieteil noch kurz erwähnen? Oder eben hier ---> \n",
    "Dies lässt sich  mit Hilfe der pandas Methode \n",
    "```python\n",
    "pd.series(data,index)\n",
    "```\n",
    "realisieren."
   ]
  },
  {
   "cell_type": "code",
   "execution_count": null,
   "metadata": {},
   "outputs": [],
   "source": []
  },
  {
   "cell_type": "markdown",
   "metadata": {},
   "source": [
    "### 2.11: Nun plotten wir die Länge der Tweets über Zeit:"
   ]
  },
  {
   "cell_type": "code",
   "execution_count": null,
   "metadata": {},
   "outputs": [],
   "source": []
  },
  {
   "cell_type": "markdown",
   "metadata": {},
   "source": [
    "### 2.12: Nun plotten wir noch Likes vs Retweets:\n",
    " <!--- Ist diese Abfrage wirklich von Belangen? ---> "
   ]
  },
  {
   "cell_type": "code",
   "execution_count": null,
   "metadata": {},
   "outputs": [],
   "source": []
  },
  {
   "cell_type": "markdown",
   "metadata": {},
   "source": [
    "### 2.13: Über welche Tools wurde getwittert? \n",
    " <!--- Wäre es nicht sinnvoller, Tools über die besonders häufig getwittert wurde ausgeben zu lassen z.b Top 10?  ---> "
   ]
  },
  {
   "cell_type": "code",
   "execution_count": null,
   "metadata": {},
   "outputs": [],
   "source": []
  },
  {
   "cell_type": "markdown",
   "metadata": {},
   "source": [
    "### 2.14: Nach der ersten Analyse des Datensatzes kennen wir nun dessen Aufbau. <br>Nun wird es Zeit für die eigentliche Sentimentanalyse:\n",
    "Zuerst müssen die Tweets gecleaned werden.<br>Das bedeutet wir entfernen folgende Sonderzeichen:\"(@[A-Za-z0-9]+)|([^0-9A-Za-z \\t])|(\\w+:\\/\\/\\S+)\", \" \"<br> Hierbei hilft uns das Package **re**. <!--- Wird beim bereinigen der Sonderzeichen auch ein Komma ohne Leerzeichen berücksichtigt? ---> "
   ]
  },
  {
   "cell_type": "code",
   "execution_count": null,
   "metadata": {},
   "outputs": [],
   "source": []
  },
  {
   "cell_type": "markdown",
   "metadata": {},
   "source": [
    "### 2.15: Nachdem wir die Tweets gecleaned haben, können wir den TextBlob Classifier verwenden:"
   ]
  },
  {
   "cell_type": "code",
   "execution_count": null,
   "metadata": {},
   "outputs": [],
   "source": []
  },
  {
   "cell_type": "markdown",
   "metadata": {},
   "source": [
    "### 2.16: Die Ergebnisse sollen in einer zusätzlichen Spalte (z.B. \"Sentiment\") im Dataframe dargestellt werden:"
   ]
  },
  {
   "cell_type": "code",
   "execution_count": null,
   "metadata": {},
   "outputs": [],
   "source": []
  },
  {
   "cell_type": "markdown",
   "metadata": {},
   "source": [
    "### 2.17: Um eine Übersicht über das Ergebnis zu erhalten, sollen die Sentimente nun in Prozentangaben ausgeben werden.\n"
   ]
  },
  {
   "cell_type": "code",
   "execution_count": null,
   "metadata": {},
   "outputs": [],
   "source": []
  }
 ],
 "metadata": {
  "kernelspec": {
   "display_name": "Python 3",
   "language": "python",
   "name": "python3"
  },
  "language_info": {
   "codemirror_mode": {
    "name": "ipython",
    "version": 3
   },
   "file_extension": ".py",
   "mimetype": "text/x-python",
   "name": "python",
   "nbconvert_exporter": "python",
   "pygments_lexer": "ipython3",
   "version": "3.6.4"
  }
 },
 "nbformat": 4,
 "nbformat_minor": 2
}
